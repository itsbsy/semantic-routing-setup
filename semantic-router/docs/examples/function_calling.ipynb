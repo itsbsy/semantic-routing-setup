{
 "cells": [
  {
   "cell_type": "markdown",
   "metadata": {},
   "source": [
    "### Set up functions and routes"
   ]
  },
  {
   "cell_type": "code",
   "execution_count": 1,
   "metadata": {},
   "outputs": [],
   "source": [
    "from datetime import datetime\n",
    "from zoneinfo import ZoneInfo\n",
    "\n",
    "\n",
    "def get_time(timezone: str) -> str:\n",
    "    \"\"\"Finds the current time in a specific timezone.\n",
    "\n",
    "    :param timezone: The timezone to find the current time in, should\n",
    "        be a valid timezone from the IANA Time Zone Database like\n",
    "        \"America/New_York\" or \"Europe/London\".\n",
    "    :type timezone: str\n",
    "    :return: The current time in the specified timezone.\"\"\"\n",
    "    now = datetime.now(ZoneInfo(timezone))\n",
    "    print(f\"Invoked `get_time` function with timezone: `{timezone}`\")\n",
    "    return now.strftime(\"%H:%M\")\n",
    "\n",
    "\n",
    "def get_news(category: str, country: str) -> str:\n",
    "    \"\"\"Useful to get the news in a specific country\"\"\"\n",
    "    print(\n",
    "        f\"Invoked: `get_news` function with category: `{category}` \"\n",
    "        f\"and country: `{country}`\"\n",
    "    )\n",
    "    return \"Results from dummy news API\""
   ]
  },
  {
   "cell_type": "code",
   "execution_count": 2,
   "metadata": {},
   "outputs": [
    {
     "name": "stdout",
     "output_type": "stream",
     "text": [
      "Invoked `get_time` function with timezone: `America/New_York`\n"
     ]
    },
    {
     "data": {
      "text/plain": [
       "'05:44'"
      ]
     },
     "execution_count": 2,
     "metadata": {},
     "output_type": "execute_result"
    }
   ],
   "source": [
    "get_time(\"America/New_York\")"
   ]
  },
  {
   "cell_type": "markdown",
   "metadata": {},
   "source": [
    "Now generate a dynamic routing config for each function"
   ]
  },
  {
   "cell_type": "code",
   "execution_count": 3,
   "metadata": {},
   "outputs": [
    {
     "name": "stderr",
     "output_type": "stream",
     "text": [
      "/Users/jakit/customers/aurelio/semantic-router/.venv/lib/python3.11/site-packages/tqdm/auto.py:21: TqdmWarning: IProgress not found. Please update jupyter and ipywidgets. See https://ipywidgets.readthedocs.io/en/stable/user_install.html\n",
      "  from .autonotebook import tqdm as notebook_tqdm\n",
      "\u001b[32m2024-01-05 12:44:13 INFO semantic_router.utils.logger Generating dynamic route...\u001b[0m\n",
      "\u001b[32m2024-01-05 12:44:16 INFO semantic_router.utils.logger Generated route config:\n",
      "{\n",
      "    \"name\": \"get_time\",\n",
      "    \"utterances\": [\n",
      "        \"What's the current time in New York?\",\n",
      "        \"Can you tell me the time in London?\",\n",
      "        \"What's the current time in Tokyo?\",\n",
      "        \"Can you give me the time in Sydney?\",\n",
      "        \"What's the current time in Berlin?\"\n",
      "    ]\n",
      "}\u001b[0m\n",
      "\u001b[32m2024-01-05 12:44:16 INFO semantic_router.utils.logger Generating dynamic route...\u001b[0m\n",
      "\u001b[32m2024-01-05 12:44:19 INFO semantic_router.utils.logger Generated route config:\n",
      "{\n",
      "    \"name\": \"get_news\",\n",
      "    \"utterances\": [\n",
      "        \"Tell me the latest news from the United States\",\n",
      "        \"What's happening in India today?\",\n",
      "        \"Can you give me the top stories from Japan\",\n",
      "        \"Get me the breaking news from the UK\",\n",
      "        \"What's the latest in Germany?\"\n",
      "    ]\n",
      "}\u001b[0m\n"
     ]
    }
   ],
   "source": [
    "from semantic_router import Route\n",
    "\n",
    "functions = [get_time, get_news]\n",
    "\n",
    "routes = []\n",
    "\n",
    "for function in functions:\n",
    "    route = Route.from_dynamic_route(entity=function)\n",
    "    routes.append(route)"
   ]
  },
  {
   "cell_type": "code",
   "execution_count": 4,
   "metadata": {},
   "outputs": [],
   "source": [
    "# You can manually add or remove routes\n",
    "\n",
    "get_weather_route = Route(\n",
    "    name=\"get_weather\",\n",
    "    utterances=[\n",
    "        \"what is the weather in SF\",\n",
    "        \"what is the current temperature in London?\",\n",
    "        \"tomorrow's weather in Paris?\",\n",
    "    ],\n",
    "    function_schema=None,\n",
    ")\n",
    "routes.append(get_weather_route)"
   ]
  },
  {
   "cell_type": "markdown",
   "metadata": {},
   "source": [
    "Add routes to the layer config"
   ]
  },
  {
   "cell_type": "code",
   "execution_count": 5,
   "metadata": {},
   "outputs": [
    {
     "name": "stderr",
     "output_type": "stream",
     "text": [
      "\u001b[32m2024-01-05 12:44:23 INFO semantic_router.utils.logger Using default openai encoder: None\u001b[0m\n"
     ]
    },
    {
     "data": {
      "text/plain": [
       "{'encoder_type': 'openai',\n",
       " 'encoder_name': None,\n",
       " 'routes': [{'name': 'get_time',\n",
       "   'utterances': [\"What's the current time in New York?\",\n",
       "    'Can you tell me the time in London?',\n",
       "    \"What's the current time in Tokyo?\",\n",
       "    'Can you give me the time in Sydney?',\n",
       "    \"What's the current time in Berlin?\"],\n",
       "   'description': None,\n",
       "   'function_schema': {'name': 'get_time',\n",
       "    'description': 'Finds the current time in a specific timezone.\\n\\n:param timezone: The timezone to find the current time in, should\\n    be a valid timezone from the IANA Time Zone Database like\\n    \"America/New_York\" or \"Europe/London\".\\n:type timezone: str\\n:return: The current time in the specified timezone.',\n",
       "    'signature': '(timezone: str) -> str',\n",
       "    'output': \"<class 'str'>\"}},\n",
       "  {'name': 'get_news',\n",
       "   'utterances': ['Tell me the latest news from the United States',\n",
       "    \"What's happening in India today?\",\n",
       "    'Can you give me the top stories from Japan',\n",
       "    'Get me the breaking news from the UK',\n",
       "    \"What's the latest in Germany?\"],\n",
       "   'description': None,\n",
       "   'function_schema': {'name': 'get_news',\n",
       "    'description': 'Useful to get the news in a specific country',\n",
       "    'signature': '(category: str, country: str) -> str',\n",
       "    'output': \"<class 'str'>\"}},\n",
       "  {'name': 'get_weather',\n",
       "   'utterances': ['what is the weather in SF',\n",
       "    'what is the current temperature in London?',\n",
       "    \"tomorrow's weather in Paris?\"],\n",
       "   'description': None,\n",
       "   'function_schema': None}]}"
      ]
     },
     "execution_count": 5,
     "metadata": {},
     "output_type": "execute_result"
    }
   ],
   "source": [
    "from semantic_router.layer import LayerConfig\n",
    "\n",
    "layer_config = LayerConfig(routes=routes)\n",
    "layer_config.to_dict()"
   ]
  },
  {
   "cell_type": "code",
   "execution_count": 6,
   "metadata": {},
   "outputs": [
    {
     "data": {
      "text/plain": [
       "Route(name='get_time', utterances=[\"What's the current time in New York?\", 'Can you tell me the time in London?', \"What's the current time in Tokyo?\", 'Can you give me the time in Sydney?', \"What's the current time in Berlin?\"], description=None, function_schema={'name': 'get_time', 'description': 'Finds the current time in a specific timezone.\\n\\n:param timezone: The timezone to find the current time in, should\\n    be a valid timezone from the IANA Time Zone Database like\\n    \"America/New_York\" or \"Europe/London\".\\n:type timezone: str\\n:return: The current time in the specified timezone.', 'signature': '(timezone: str) -> str', 'output': \"<class 'str'>\"})"
      ]
     },
     "execution_count": 6,
     "metadata": {},
     "output_type": "execute_result"
    }
   ],
   "source": [
    "# Get a route by name\n",
    "layer_config.get(\"get_time\")"
   ]
  },
  {
   "cell_type": "code",
   "execution_count": 7,
   "metadata": {},
   "outputs": [
    {
     "name": "stderr",
     "output_type": "stream",
     "text": [
      "\u001b[32m2024-01-05 12:44:32 INFO semantic_router.utils.logger Removed route `get_weather`\u001b[0m\n"
     ]
    },
    {
     "data": {
      "text/plain": [
       "{'encoder_type': 'openai',\n",
       " 'encoder_name': None,\n",
       " 'routes': [{'name': 'get_time',\n",
       "   'utterances': [\"What's the current time in New York?\",\n",
       "    'Can you tell me the time in London?',\n",
       "    \"What's the current time in Tokyo?\",\n",
       "    'Can you give me the time in Sydney?',\n",
       "    \"What's the current time in Berlin?\"],\n",
       "   'description': None,\n",
       "   'function_schema': {'name': 'get_time',\n",
       "    'description': 'Finds the current time in a specific timezone.\\n\\n:param timezone: The timezone to find the current time in, should\\n    be a valid timezone from the IANA Time Zone Database like\\n    \"America/New_York\" or \"Europe/London\".\\n:type timezone: str\\n:return: The current time in the specified timezone.',\n",
       "    'signature': '(timezone: str) -> str',\n",
       "    'output': \"<class 'str'>\"}},\n",
       "  {'name': 'get_news',\n",
       "   'utterances': ['Tell me the latest news from the United States',\n",
       "    \"What's happening in India today?\",\n",
       "    'Can you give me the top stories from Japan',\n",
       "    'Get me the breaking news from the UK',\n",
       "    \"What's the latest in Germany?\"],\n",
       "   'description': None,\n",
       "   'function_schema': {'name': 'get_news',\n",
       "    'description': 'Useful to get the news in a specific country',\n",
       "    'signature': '(category: str, country: str) -> str',\n",
       "    'output': \"<class 'str'>\"}}]}"
      ]
     },
     "execution_count": 7,
     "metadata": {},
     "output_type": "execute_result"
    }
   ],
   "source": [
    "# Remove a route by name\n",
    "layer_config.remove(\"get_weather\")\n",
    "layer_config.to_dict()"
   ]
  },
  {
   "cell_type": "markdown",
   "metadata": {},
   "source": [
    "Save config to a file (.json or .yaml)"
   ]
  },
  {
   "cell_type": "code",
   "execution_count": 8,
   "metadata": {},
   "outputs": [
    {
     "name": "stderr",
     "output_type": "stream",
     "text": [
      "\u001b[32m2024-01-05 12:45:12 INFO semantic_router.utils.logger Saving route config to output/layer_config.json\u001b[0m\n"
     ]
    }
   ],
   "source": [
    "layer_config.to_file(\"output/layer_config.json\")"
   ]
  },
  {
   "cell_type": "markdown",
   "metadata": {},
   "source": [
    "### Define routing layer"
   ]
  },
  {
   "cell_type": "markdown",
   "metadata": {},
   "source": [
    "Load config from local file"
   ]
  },
  {
   "cell_type": "code",
   "execution_count": 9,
   "metadata": {},
   "outputs": [
    {
     "name": "stderr",
     "output_type": "stream",
     "text": [
      "\u001b[32m2024-01-05 12:45:15 INFO semantic_router.utils.logger Loading route config from output/layer_config.json\u001b[0m\n",
      "\u001b[32m2024-01-05 12:45:15 INFO semantic_router.utils.logger Using default openai encoder: None\u001b[0m\n"
     ]
    }
   ],
   "source": [
    "from semantic_router.layer import LayerConfig\n",
    "\n",
    "layer_config = LayerConfig.from_file(\"output/layer_config.json\")"
   ]
  },
  {
   "cell_type": "markdown",
   "metadata": {},
   "source": [
    "Initialize routing layer"
   ]
  },
  {
   "cell_type": "code",
   "execution_count": 11,
   "metadata": {},
   "outputs": [
    {
     "name": "stderr",
     "output_type": "stream",
     "text": [
      "\u001b[32m2024-01-05 12:45:50 INFO semantic_router.utils.logger Initializing RouteLayer\u001b[0m\n"
     ]
    }
   ],
   "source": [
    "import os\n",
    "from getpass import getpass\n",
    "from semantic_router import RouteLayer\n",
    "\n",
    "# https://dashboard.cohere.com/\n",
    "os.environ[\"COHERE_API_KEY\"] = os.getenv(\"COHERE_API_KEY\") or getpass(\n",
    "    \"Enter Cohere API Key: \"\n",
    ")\n",
    "\n",
    "layer = RouteLayer.from_config(config=layer_config)"
   ]
  },
  {
   "cell_type": "markdown",
   "metadata": {},
   "source": [
    "Do a function call with functions as tool"
   ]
  },
  {
   "cell_type": "code",
   "execution_count": 12,
   "metadata": {},
   "outputs": [
    {
     "name": "stderr",
     "output_type": "stream",
     "text": [
      "\u001b[32m2024-01-05 12:45:53 INFO semantic_router.utils.logger Extracting function input...\u001b[0m\n"
     ]
    },
    {
     "data": {
      "text/plain": [
       "RouteChoice(name='get_time', function_call={'timezone': 'Europe/Stockholm'})"
      ]
     },
     "execution_count": 12,
     "metadata": {},
     "output_type": "execute_result"
    }
   ],
   "source": [
    "layer(\"What is the time in Stockholm?\")"
   ]
  },
  {
   "cell_type": "markdown",
   "metadata": {},
   "source": [
    "Define function execution method"
   ]
  },
  {
   "cell_type": "code",
   "execution_count": 13,
   "metadata": {},
   "outputs": [
    {
     "name": "stdout",
     "output_type": "stream",
     "text": [
      "Query: What is the time in Stockholm?\n"
     ]
    },
    {
     "name": "stderr",
     "output_type": "stream",
     "text": [
      "\u001b[32m2024-01-05 12:45:58 INFO semantic_router.utils.logger Extracting function input...\u001b[0m\n"
     ]
    },
    {
     "name": "stdout",
     "output_type": "stream",
     "text": [
      "Invoked `get_time` function with timezone: `Europe/Stockholm`\n",
      "11:46\n",
      "Query: What are the tech news in the US?\n"
     ]
    },
    {
     "name": "stderr",
     "output_type": "stream",
     "text": [
      "\u001b[32m2024-01-05 12:46:00 INFO semantic_router.utils.logger Extracting function input...\u001b[0m\n"
     ]
    },
    {
     "name": "stdout",
     "output_type": "stream",
     "text": [
      "Invoked: `get_news` function with category: `tech` and country: `US`\n",
      "Results from dummy news API\n",
      "Query: The capital of France?\n",
      "The capital of France is Paris. It's a beautiful city known for its art, culture, and cuisine. Have you ever been there?\n"
     ]
    }
   ],
   "source": [
    "from semantic_router.schema import RouteChoice\n",
    "from semantic_router.utils import llm\n",
    "\n",
    "\n",
    "def route_and_execute(query, functions, layer):\n",
    "    route_choice: RouteChoice = layer(query)\n",
    "\n",
    "    for function in functions:\n",
    "        if function.__name__ == route_choice.name:\n",
    "            if route_choice.function_call:\n",
    "                return function(**route_choice.function_call)\n",
    "\n",
    "    # If no function is found, use the LLM for general queries\n",
    "    return llm.llm(query)\n",
    "\n",
    "\n",
    "queries = [\n",
    "    \"What is the time in Stockholm?\",\n",
    "    \"What are the tech news in the US?\",\n",
    "    \"The capital of France?\",\n",
    "]\n",
    "\n",
    "for query in queries:\n",
    "    print(f\"Query: {query}\")\n",
    "    print(route_and_execute(query, functions, layer))"
   ]
  },
  {
   "cell_type": "code",
   "execution_count": null,
   "metadata": {},
   "outputs": [],
   "source": []
  }
 ],
 "metadata": {
  "kernelspec": {
   "display_name": ".venv",
   "language": "python",
   "name": "python3"
  },
  "language_info": {
   "codemirror_mode": {
    "name": "ipython",
    "version": 3
   },
   "file_extension": ".py",
   "mimetype": "text/x-python",
   "name": "python",
   "nbconvert_exporter": "python",
   "pygments_lexer": "ipython3",
   "version": "3.9.18"
  }
 },
 "nbformat": 4,
 "nbformat_minor": 2
}
